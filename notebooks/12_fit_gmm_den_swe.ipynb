{
 "cells": [
  {
   "cell_type": "markdown",
   "id": "2f72406a",
   "metadata": {},
   "source": [
    "> **Note:** The GMM models for Denmark and Sweden already exist.  \n",
    "> Raw data is not stored locally and is only available upon request.\n"
   ]
  }
 ],
 "metadata": {
  "language_info": {
   "name": "python"
  }
 },
 "nbformat": 4,
 "nbformat_minor": 5
}
